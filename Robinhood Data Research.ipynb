{
  "cells": [
    {
      "cell_type": "code",
      "execution_count": null,
      "metadata": {
        "id": "ykgsT2z6WIrh"
      },
      "outputs": [],
      "source": [
        "pip install pandasql"
      ]
    },
    {
      "cell_type": "code",
      "execution_count": null,
      "metadata": {
        "id": "SPIsgOP-HTk3"
      },
      "outputs": [],
      "source": [
        "pip install robin_stocks"
      ]
    },
    {
      "cell_type": "code",
      "execution_count": 4,
      "metadata": {
        "id": "eS4lIkePWSmA"
      },
      "outputs": [],
      "source": [
        "import robin_stocks.robinhood as r\n",
        "from robin_stocks.globals import LOGGED_IN, SESSION, OUTPUT\n",
        "import pyotp\n",
        "import requests\n",
        "import json\n",
        "import pandas as pd\n",
        "import pandasql as ps\n",
        "from pandasql import sqldf\n",
        "from datetime import datetime\n",
        "import yfinance as yf\n",
        "from google.colab import drive"
      ]
    },
    {
      "cell_type": "code",
      "execution_count": 15,
      "metadata": {
        "id": "xe0m_T3OWSou"
      },
      "outputs": [],
      "source": [
        "# Function to log-in user\n",
        "def login_function(username, password, mfa_code):\n",
        "  try:\n",
        "    r.authentication.login(username,password,mfa_code=mfa_code,expiresIn=900)\n",
        "  except Exception as e:\n",
        "    print(\"Error: \", e)"
      ]
    },
    {
      "cell_type": "code",
      "execution_count": 6,
      "metadata": {
        "id": "t-sYbUkuYmjG"
      },
      "outputs": [],
      "source": [
        "# Function to get raw dataset with all filled orders\n",
        "\n",
        "\"\"\"Takes a stock instrument url and returns the ticker symbol associated with the stock.\n",
        "    :param id: A string that represents the stocks instrument url.\n",
        "    :type id: str\n",
        "    :returns:  The symbol.\n",
        "    \"\"\"\n",
        "symbol_for_stock = lambda url: requests.get(url).json()['symbol']"
      ]
    },
    {
      "cell_type": "code",
      "execution_count": 23,
      "metadata": {
        "id": "1wywamBSE2q_"
      },
      "outputs": [],
      "source": [
        "# Function to get raw dataset with all filled orders\n",
        "def get_all_orders():\n",
        "\n",
        "  filled_orders = []\n",
        "  filled_orders.append(['symbol','latest_price', 'order_type','quantity','unit_price','total_price','fees','timestamp'])\n",
        "\n",
        "  stocks_etf = r.orders.get_all_stock_orders()\n",
        "  stock_prices = {}\n",
        "  for order in stocks_etf:\n",
        "    if order['executions'] != []:\n",
        "      order_details = []\n",
        "      order_details.append(symbol_for_stock(order['instrument']))\n",
        "      try:\n",
        "        price = stock_prices[symbol_for_stock(order['instrument'])]\n",
        "      except:\n",
        "        try:\n",
        "          price = r.stocks.get_latest_price(symbol_for_stock(order['instrument']), includeExtendedHours=True)[0]\n",
        "        except:\n",
        "          price = 0\n",
        "        stock_prices[symbol_for_stock(order['instrument'])] = price\n",
        "      order_details.append(price)\n",
        "      order_details.append(order['side'])\n",
        "      order_details.append(order['cumulative_quantity'])\n",
        "      order_details.append(order['average_price'])\n",
        "      order_details.append(order['executed_notional']['amount'])\n",
        "      order_details.append(order['fees'])\n",
        "      order_details.append(order['updated_at'])\n",
        "      filled_orders.append(order_details)\n",
        "\n",
        "  crypto = r.orders.get_all_crypto_orders()\n",
        "  crypto_prices = {}\n",
        "  for order in crypto:\n",
        "    if order['executions'] != []:\n",
        "      order_details = []\n",
        "      order_details.append(order['currency_code'])\n",
        "      try:\n",
        "        price = crypto_prices[order['currency_code']]\n",
        "      except:\n",
        "        price = r.crypto.get_crypto_quote(order['currency_code'])['mark_price']\n",
        "        crypto_prices[order['currency_code']] = price\n",
        "      order_details.append(price)\n",
        "      order_details.append(order['side'])\n",
        "      order_details.append(order['cumulative_quantity'])\n",
        "      order_details.append(order['average_price'])\n",
        "      order_details.append(order['rounded_executed_notional'])\n",
        "      order_details.append(0)\n",
        "      order_details.append(order['updated_at'])\n",
        "      filled_orders.append(order_details)\n",
        "\n",
        "  # Converting to dataframe for analysis\n",
        "  order_data = pd.DataFrame(filled_orders[1:], columns=filled_orders[0])\n",
        "\n",
        "  # Ensure data types are correct\n",
        "  order_data['timestamp'] = pd.to_datetime(order_data['timestamp'],utc=True)\n",
        "  order_data = order_data.sort_values(by='timestamp', ascending=True)\n",
        "  order_data[['quantity', 'unit_price', 'total_price', 'fees', 'latest_price']] = order_data[['quantity', 'unit_price', 'total_price', 'fees', 'latest_price']].astype(float)\n",
        "\n",
        "  return order_data"
      ]
    },
    {
      "cell_type": "code",
      "execution_count": 8,
      "metadata": {
        "id": "5fJv5mFLdBS0"
      },
      "outputs": [],
      "source": [
        "# Function to adjust for stock splits\n",
        "def adjust_for_stock_splits(data):\n",
        "  adjusted_data = data.copy()\n",
        "  symbols = adjusted_data['symbol'].unique()\n",
        "\n",
        "  for symbol in symbols:\n",
        "      stock = yf.Ticker(symbol)\n",
        "      splits = stock.splits\n",
        "\n",
        "      if splits.empty:\n",
        "          continue\n",
        "\n",
        "      for split_date, split_ratio in splits.items():\n",
        "          # Transactions before the split date are adjusted\n",
        "          transactions_to_adjust = adjusted_data[(adjusted_data['symbol'] == symbol) & (adjusted_data['timestamp'] < split_date)]\n",
        "          transactions_after = adjusted_data[(adjusted_data['symbol'] == symbol) & (adjusted_data['timestamp'] >= split_date)]\n",
        "\n",
        "          adjusted_data.loc[transactions_to_adjust.index, 'quantity'] *= split_ratio\n",
        "          adjusted_data.loc[transactions_to_adjust.index, 'unit_price'] /= split_ratio\n",
        "          # adjusted_data.loc[transactions_to_adjust.index, 'total_price'] = adjusted_data.loc[transactions_to_adjust.index, 'quantity'] * adjusted_data.loc[transactions_to_adjust.index, 'unit_price']\n",
        "\n",
        "  return adjusted_data"
      ]
    },
    {
      "cell_type": "code",
      "execution_count": 9,
      "metadata": {
        "id": "Dq7Z6phFwXaA"
      },
      "outputs": [],
      "source": [
        "# Function to filter transactions by user-defined period\n",
        "def filter_transactions_by_period(data, start_date, end_date):\n",
        "  # Convert strings to datetime\n",
        "  start_date = pd.to_datetime(start_date,utc=True)\n",
        "  end_date = pd.to_datetime(end_date,utc=True)\n",
        "\n",
        "  # Filter data\n",
        "  filtered_data = data[(data['timestamp'] >= start_date) & (data['timestamp'] <= end_date)]\n",
        "  return filtered_data"
      ]
    },
    {
      "cell_type": "code",
      "execution_count": 33,
      "metadata": {
        "id": "tv95bB0IBz0j"
      },
      "outputs": [],
      "source": [
        "# Main analysis function\n",
        "def perform_investment_analysis(data, start_date=None, end_date=None):\n",
        "\n",
        "  # Initialize the summary table\n",
        "  summary_table = pd.DataFrame(columns=['symbol', 'quantity_purchased', 'investment_amount', 'quantity_sold', 'return_amount', 'realized_gain_loss', 'unrealized_gain_loss'])\n",
        "\n",
        "\n",
        "  # Adjust data for stock splits\n",
        "  data = adjust_for_stock_splits(data)\n",
        "\n",
        "  # Filter data for the user-defined period\n",
        "  if not start_date: start_date = '2013-04-18'\n",
        "  if not end_date: end_date = datetime.datetime.now()\n",
        "  data = filter_transactions_by_period(data, start_date, end_date)\n",
        "\n",
        "\n",
        "  # Re-process each symbol with corrected logic\n",
        "  for symbol in data['symbol'].unique():\n",
        "\n",
        "      # Track realized gains/losses separately for each year\n",
        "      realized_gains_losses = {}\n",
        "\n",
        "      symbol_data = data[data['symbol'] == symbol]\n",
        "      buy_orders = symbol_data[symbol_data['order_type'] == 'buy'].copy()\n",
        "      sell_orders = symbol_data[symbol_data['order_type'] == 'sell'].copy()\n",
        "\n",
        "      # Reset trackers for summary data\n",
        "      total_quantity_purchased = buy_orders['quantity'].sum()\n",
        "      total_investment_amount = buy_orders['total_price'].sum() - buy_orders['fees'].sum()\n",
        "      total_quantity_sold = sell_orders['quantity'].sum()\n",
        "      total_return_amount = sell_orders['total_price'].sum() - sell_orders['fees'].sum()\n",
        "      realized_gain_loss = 0\n",
        "\n",
        "\n",
        "      # Adjust FIFO calculation for realized gains/losses to handle no corresponding buy orders\n",
        "      for index, sell_order in sell_orders.iterrows():\n",
        "          fiscal_year = sell_order['timestamp'].year\n",
        "          sell_quantity = sell_order['quantity']\n",
        "\n",
        "          while sell_quantity > 0 and not buy_orders[buy_orders['quantity'] > 0].empty:\n",
        "              buy_order = buy_orders[buy_orders['quantity'] > 0].iloc[0]\n",
        "              buy_quantity = buy_order['quantity']\n",
        "\n",
        "              quantity_to_sell = min(sell_quantity, buy_quantity)\n",
        "              realized_gain_loss = (sell_order['unit_price'] - buy_order['unit_price']) * quantity_to_sell\n",
        "\n",
        "              # Update realized gains/losses by fiscal year\n",
        "              if fiscal_year not in realized_gains_losses:\n",
        "                  realized_gains_losses[fiscal_year] = realized_gain_loss\n",
        "              else:\n",
        "                  realized_gains_losses[fiscal_year] += realized_gain_loss\n",
        "\n",
        "              sell_quantity -= quantity_to_sell\n",
        "              buy_orders.at[buy_order.name, 'quantity'] -= quantity_to_sell\n",
        "\n",
        "      # Adjust calculation for unrealized gains/losses\n",
        "      unrealized_gain_loss = 0\n",
        "      for index, buy_order in buy_orders.iterrows():\n",
        "          if buy_order['quantity'] > 0:  # Only unsold shares are considered\n",
        "              current_price_per_unit = symbol_data.iloc[-1]['latest_price']\n",
        "              buy_price_per_unit = buy_order['unit_price']\n",
        "              unrealized_gain_loss += (current_price_per_unit - buy_price_per_unit) * buy_order['quantity']\n",
        "              # print(\"Unrealized gain/loss: \", unrealized_gain_loss)\n",
        "\n",
        "      # Append corrected data to the summary table\n",
        "      summary_table = pd.concat([summary_table, pd.DataFrame({\n",
        "          'symbol': [symbol],\n",
        "          'quantity_purchased': [total_quantity_purchased],\n",
        "          'investment_amount': [total_investment_amount],\n",
        "          'quantity_sold': [total_quantity_sold],\n",
        "          'return_amount': [total_return_amount],\n",
        "          'realized_gain_loss': [realized_gains_losses],\n",
        "          'unrealized_gain_loss': [unrealized_gain_loss]\n",
        "      })], ignore_index=True)\n",
        "\n",
        "  return summary_table\n"
      ]
    },
    {
      "cell_type": "code",
      "execution_count": 69,
      "metadata": {
        "id": "HC46zMbrZZix"
      },
      "outputs": [],
      "source": [
        "# Function to pull annual realized gains and losses\n",
        "\n",
        "def annual_realized_summary(df):\n",
        "\n",
        "  summary_table = df.copy()\n",
        "\n",
        "  # Extracting and normalizing the realized_gain_loss column\n",
        "  realized_gains = pd.json_normalize(summary_table['realized_gain_loss'])\n",
        "\n",
        "  # Merging the normalized realized gains with the original symbol column\n",
        "  realized_gains['symbol'] = summary_table['symbol']\n",
        "\n",
        "  # Melting the DataFrame to have one row per symbol-year pair\n",
        "  melted_gains = realized_gains.melt(id_vars=['symbol'], var_name='year', value_name='gain_loss').dropna()\n",
        "  \n",
        "  # Summarizing by year\n",
        "  yearly_summary = melted_gains.groupby('year')['gain_loss'].agg(['sum', 'idxmax', 'idxmin'])\n",
        "  yearly_summary.columns = ['Total Realized Gains', 'Top Gainer', 'Top Loser']\n",
        "\n",
        "  # Adding symbol information to yearly summary\n",
        "  yearly_summary['Top Gainer'] = melted_gains.loc[yearly_summary['Top Gainer'], 'symbol'].values\n",
        "  yearly_summary['Top Loser'] = melted_gains.loc[yearly_summary['Top Loser'], 'symbol'].values\n",
        "\n",
        "  # Group by year and apply a function to get top 5 gainers or losers\n",
        "  grouped = melted_gains.groupby('year', as_index=False)\n",
        "\n",
        "  # For gainers, sort in descending order\n",
        "  yearly_top_5 = grouped.apply(lambda x: x[x['gain_loss'] > 0].nlargest(5, 'gain_loss')).reset_index(drop=True)\n",
        "\n",
        "  # For losers, sort in ascending order\n",
        "  yearly_bottom_5 = grouped.apply(lambda x: x.nsmallest(5, 'gain_loss')).reset_index(drop=True)\n",
        "\n",
        "  # All-time metrics\n",
        "  all_time_total_invested = summary_table['investment_amount'].sum()\n",
        "  all_time_total_capital_returned = summary_table['return_amount'].sum()\n",
        "  all_time_unrealized_gains_losses = summary_table['unrealized_gain_loss'].sum()\n",
        "  all_time_realized_gains_losses = yearly_summary['Total Realized Gains'].sum()\n",
        "\n",
        "  return yearly_summary, yearly_top_5, yearly_bottom_5, all_time_total_invested, all_time_total_capital_returned, all_time_unrealized_gains_losses, all_time_realized_gains_losses\n"
      ]
    },
    {
      "cell_type": "code",
      "execution_count": null,
      "metadata": {
        "colab": {
          "base_uri": "https://localhost:8080/",
          "height": 530
        },
        "id": "GXW_8DFyQunJ",
        "outputId": "e3394159-5eee-4ae3-9970-c554354a29de"
      },
      "outputs": [],
      "source": [
        "# Function compiling all previous functions into one\n",
        "def final_results(username, password, filepath, mfa_code=None, start_date=None, end_date=None):\n",
        "  try:\n",
        "    login = login_function(username,password,mfa_code=mfa_code)\n",
        "    data = get_all_orders()\n",
        "    summary = perform_investment_analysis(data, start_date, end_date)\n",
        "    summary_annual, top_5, bottom_5, all_time_total_invested, all_time_total_capital_returned, all_time_unrealized_gains_losses, all_time_realized_gains_losses = annual_realized_summary(summary)\n",
        "\n",
        "    print(\"All-time Total Money Invested:\", all_time_total_invested)\n",
        "    print(\"All-time Total Money Returned:\", all_time_total_capital_returned)\n",
        "    print(\"All-time Unrealized Gains/Losses:\", all_time_unrealized_gains_losses)\n",
        "    print(\"All-time Realized Gains/Losses:\", all_time_realized_gains_losses)\n",
        "\n",
        "    print(\"\\nReturns per year: \")\n",
        "    display(summary_annual)\n",
        "    print(\"\\nTop 5 gainers per year: \")\n",
        "    display(top_5)\n",
        "    print(\"\\nBottom 5 losers per year: \")\n",
        "    display(bottom_5)\n",
        "\n",
        "    summary.to_csv(filepath, index=False)\n",
        "  except Exception as e:\n",
        "      return (\"Error: \", e)"
      ]
    },
    {
      "cell_type": "code",
      "execution_count": null,
      "metadata": {
        "colab": {
          "base_uri": "https://localhost:8080/"
        },
        "id": "Ihu8lWzPmX_J",
        "outputId": "cf51cafb-60ea-41b1-831a-f934909f2879"
      },
      "outputs": [],
      "source": [
        "# Print Annual Summary and export all-time summary table to csv\n",
        "username = \"Enter your username\"\n",
        "password = \"Enter your password\"\n",
        "mfa_code = \"Enter you mfa code\"\n",
        "filepath = \"Enter your filepath\" #e.g., - '/content/drive/MyDrive/Colab Notebooks/RH_investment_summary.csv'\n",
        "start_date = \"Enter your start date\" #e.g., - '2020-01-01' (default = '2013-04-18)\n",
        "end_date = \"Enter your end date\" #e.g., - '2023-12-31' (default = datetime.now())\n",
        "final_results(username, password, filepath, mfa_code=mfa_code, start_date=start_date, end_date=end_date) # If you don't have mfa_code and don't want to specify start_date or end_date, then just omit them from the function call"
      ]
    }
  ],
  "metadata": {
    "colab": {
      "provenance": []
    },
    "kernelspec": {
      "display_name": "Python 3",
      "name": "python3"
    }
  },
  "nbformat": 4,
  "nbformat_minor": 0
}
